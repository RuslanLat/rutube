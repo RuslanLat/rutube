{
 "cells": [
  {
   "cell_type": "markdown",
   "metadata": {},
   "source": [
    "в случае отсутствия установить библиотеку \\\n",
    "pip install pandas"
   ]
  },
  {
   "cell_type": "code",
   "execution_count": 37,
   "metadata": {},
   "outputs": [],
   "source": [
    "# импорт необходимых библиотек\n",
    "import datetime\n",
    "import pandas as pd\n",
    "import numpy as np"
   ]
  },
  {
   "cell_type": "markdown",
   "metadata": {},
   "source": [
    "В данных для задачи \"Предсказание социально-демографических характеристик пользователя\" в колонке **event_timestamp** указано московское время (GMT +3). \\\n",
    "Используя данные из колонки **region** приводится время к региональному"
   ]
  },
  {
   "cell_type": "code",
   "execution_count": 2,
   "metadata": {},
   "outputs": [
    {
     "data": {
      "text/html": [
       "<div>\n",
       "<style scoped>\n",
       "    .dataframe tbody tr th:only-of-type {\n",
       "        vertical-align: middle;\n",
       "    }\n",
       "\n",
       "    .dataframe tbody tr th {\n",
       "        vertical-align: top;\n",
       "    }\n",
       "\n",
       "    .dataframe thead th {\n",
       "        text-align: right;\n",
       "    }\n",
       "</style>\n",
       "<table border=\"1\" class=\"dataframe\">\n",
       "  <thead>\n",
       "    <tr style=\"text-align: right;\">\n",
       "      <th></th>\n",
       "      <th>event_timestamp</th>\n",
       "      <th>region</th>\n",
       "      <th>ua_device_type</th>\n",
       "      <th>ua_client_type</th>\n",
       "      <th>ua_os</th>\n",
       "      <th>ua_client_name</th>\n",
       "      <th>total_watchtime</th>\n",
       "      <th>rutube_video_id</th>\n",
       "      <th>viewer_uid</th>\n",
       "    </tr>\n",
       "  </thead>\n",
       "  <tbody>\n",
       "    <tr>\n",
       "      <th>0</th>\n",
       "      <td>2024-06-01 13:08:30+03:00</td>\n",
       "      <td>Tatarstan Republic</td>\n",
       "      <td>smartphone</td>\n",
       "      <td>browser</td>\n",
       "      <td>Android</td>\n",
       "      <td>Chrome Mobile</td>\n",
       "      <td>60</td>\n",
       "      <td>video_395879</td>\n",
       "      <td>10813370</td>\n",
       "    </tr>\n",
       "    <tr>\n",
       "      <th>1</th>\n",
       "      <td>2024-06-01 14:30:00+03:00</td>\n",
       "      <td>Bashkortostan Republic</td>\n",
       "      <td>smartphone</td>\n",
       "      <td>mobile app</td>\n",
       "      <td>Android</td>\n",
       "      <td>Rutube</td>\n",
       "      <td>60</td>\n",
       "      <td>video_216518</td>\n",
       "      <td>10512324</td>\n",
       "    </tr>\n",
       "    <tr>\n",
       "      <th>2</th>\n",
       "      <td>2024-06-01 18:48:12+03:00</td>\n",
       "      <td>Novosibirsk Oblast</td>\n",
       "      <td>smartphone</td>\n",
       "      <td>mobile app</td>\n",
       "      <td>Android</td>\n",
       "      <td>Rutube</td>\n",
       "      <td>121</td>\n",
       "      <td>video_41225</td>\n",
       "      <td>10951137</td>\n",
       "    </tr>\n",
       "    <tr>\n",
       "      <th>3</th>\n",
       "      <td>2024-06-01 16:32:36+03:00</td>\n",
       "      <td>Moscow</td>\n",
       "      <td>desktop</td>\n",
       "      <td>browser</td>\n",
       "      <td>Windows</td>\n",
       "      <td>Yandex Browser</td>\n",
       "      <td>2324</td>\n",
       "      <td>video_215886</td>\n",
       "      <td>10912434</td>\n",
       "    </tr>\n",
       "    <tr>\n",
       "      <th>4</th>\n",
       "      <td>2024-06-01 00:57:04+03:00</td>\n",
       "      <td>Moscow Oblast</td>\n",
       "      <td>smartphone</td>\n",
       "      <td>mobile app</td>\n",
       "      <td>Android</td>\n",
       "      <td>Rutube</td>\n",
       "      <td>6830</td>\n",
       "      <td>video_43631</td>\n",
       "      <td>10223585</td>\n",
       "    </tr>\n",
       "  </tbody>\n",
       "</table>\n",
       "</div>"
      ],
      "text/plain": [
       "             event_timestamp                  region ua_device_type  \\\n",
       "0  2024-06-01 13:08:30+03:00      Tatarstan Republic     smartphone   \n",
       "1  2024-06-01 14:30:00+03:00  Bashkortostan Republic     smartphone   \n",
       "2  2024-06-01 18:48:12+03:00      Novosibirsk Oblast     smartphone   \n",
       "3  2024-06-01 16:32:36+03:00                  Moscow        desktop   \n",
       "4  2024-06-01 00:57:04+03:00           Moscow Oblast     smartphone   \n",
       "\n",
       "  ua_client_type    ua_os  ua_client_name  total_watchtime rutube_video_id  \\\n",
       "0        browser  Android   Chrome Mobile               60    video_395879   \n",
       "1     mobile app  Android          Rutube               60    video_216518   \n",
       "2     mobile app  Android          Rutube              121     video_41225   \n",
       "3        browser  Windows  Yandex Browser             2324    video_215886   \n",
       "4     mobile app  Android          Rutube             6830     video_43631   \n",
       "\n",
       "   viewer_uid  \n",
       "0    10813370  \n",
       "1    10512324  \n",
       "2    10951137  \n",
       "3    10912434  \n",
       "4    10223585  "
      ]
     },
     "execution_count": 2,
     "metadata": {},
     "output_type": "execute_result"
    }
   ],
   "source": [
    "# загрузка данных с историей просмотров пользователей\n",
    "all_events = pd.read_csv(\"data/all_events.csv\")\n",
    "all_events.head()"
   ]
  },
  {
   "cell_type": "code",
   "execution_count": 3,
   "metadata": {},
   "outputs": [
    {
     "data": {
      "text/html": [
       "<div>\n",
       "<style scoped>\n",
       "    .dataframe tbody tr th:only-of-type {\n",
       "        vertical-align: middle;\n",
       "    }\n",
       "\n",
       "    .dataframe tbody tr th {\n",
       "        vertical-align: top;\n",
       "    }\n",
       "\n",
       "    .dataframe thead th {\n",
       "        text-align: right;\n",
       "    }\n",
       "</style>\n",
       "<table border=\"1\" class=\"dataframe\">\n",
       "  <thead>\n",
       "    <tr style=\"text-align: right;\">\n",
       "      <th></th>\n",
       "      <th>event_timestamp</th>\n",
       "      <th>region</th>\n",
       "      <th>ua_device_type</th>\n",
       "      <th>ua_client_type</th>\n",
       "      <th>ua_os</th>\n",
       "      <th>ua_client_name</th>\n",
       "      <th>total_watchtime</th>\n",
       "      <th>rutube_video_id</th>\n",
       "      <th>viewer_uid</th>\n",
       "    </tr>\n",
       "  </thead>\n",
       "  <tbody>\n",
       "    <tr>\n",
       "      <th>0</th>\n",
       "      <td>2024-06-01 06:40:58+03:00</td>\n",
       "      <td>Chelyabinsk</td>\n",
       "      <td>desktop</td>\n",
       "      <td>browser</td>\n",
       "      <td>Windows</td>\n",
       "      <td>Yandex Browser</td>\n",
       "      <td>1883</td>\n",
       "      <td>video_133074</td>\n",
       "      <td>10067243</td>\n",
       "    </tr>\n",
       "    <tr>\n",
       "      <th>1</th>\n",
       "      <td>2024-06-01 19:33:24+03:00</td>\n",
       "      <td>Bashkortostan Republic</td>\n",
       "      <td>smartphone</td>\n",
       "      <td>mobile app</td>\n",
       "      <td>Android</td>\n",
       "      <td>Rutube</td>\n",
       "      <td>512</td>\n",
       "      <td>video_362960</td>\n",
       "      <td>10245341</td>\n",
       "    </tr>\n",
       "    <tr>\n",
       "      <th>2</th>\n",
       "      <td>2024-06-01 21:30:43+03:00</td>\n",
       "      <td>St.-Petersburg</td>\n",
       "      <td>desktop</td>\n",
       "      <td>browser</td>\n",
       "      <td>Windows</td>\n",
       "      <td>Chrome</td>\n",
       "      <td>5647</td>\n",
       "      <td>video_96775</td>\n",
       "      <td>10894333</td>\n",
       "    </tr>\n",
       "    <tr>\n",
       "      <th>3</th>\n",
       "      <td>2024-06-01 23:03:42+03:00</td>\n",
       "      <td>Moscow</td>\n",
       "      <td>smartphone</td>\n",
       "      <td>mobile app</td>\n",
       "      <td>Android</td>\n",
       "      <td>Rutube</td>\n",
       "      <td>1521</td>\n",
       "      <td>video_161610</td>\n",
       "      <td>10029092</td>\n",
       "    </tr>\n",
       "    <tr>\n",
       "      <th>4</th>\n",
       "      <td>2024-06-01 22:48:09+03:00</td>\n",
       "      <td>Moscow</td>\n",
       "      <td>smartphone</td>\n",
       "      <td>mobile app</td>\n",
       "      <td>Android</td>\n",
       "      <td>Rutube</td>\n",
       "      <td>71</td>\n",
       "      <td>video_116245</td>\n",
       "      <td>10452976</td>\n",
       "    </tr>\n",
       "  </tbody>\n",
       "</table>\n",
       "</div>"
      ],
      "text/plain": [
       "             event_timestamp                  region ua_device_type  \\\n",
       "0  2024-06-01 06:40:58+03:00             Chelyabinsk        desktop   \n",
       "1  2024-06-01 19:33:24+03:00  Bashkortostan Republic     smartphone   \n",
       "2  2024-06-01 21:30:43+03:00          St.-Petersburg        desktop   \n",
       "3  2024-06-01 23:03:42+03:00                  Moscow     smartphone   \n",
       "4  2024-06-01 22:48:09+03:00                  Moscow     smartphone   \n",
       "\n",
       "  ua_client_type    ua_os  ua_client_name  total_watchtime rutube_video_id  \\\n",
       "0        browser  Windows  Yandex Browser             1883    video_133074   \n",
       "1     mobile app  Android          Rutube              512    video_362960   \n",
       "2        browser  Windows          Chrome             5647     video_96775   \n",
       "3     mobile app  Android          Rutube             1521    video_161610   \n",
       "4     mobile app  Android          Rutube               71    video_116245   \n",
       "\n",
       "   viewer_uid  \n",
       "0    10067243  \n",
       "1    10245341  \n",
       "2    10894333  \n",
       "3    10029092  \n",
       "4    10452976  "
      ]
     },
     "execution_count": 3,
     "metadata": {},
     "output_type": "execute_result"
    }
   ],
   "source": [
    "# загрузка данных с историей просмотров пользователей с известными целевыми переменными\n",
    "train_events = pd.read_csv(\"data/train_events.csv\")\n",
    "train_events.head()"
   ]
  },
  {
   "cell_type": "code",
   "execution_count": 4,
   "metadata": {},
   "outputs": [
    {
     "data": {
      "text/plain": [
       "((8439624, 9), (1759616, 9))"
      ]
     },
     "execution_count": 4,
     "metadata": {},
     "output_type": "execute_result"
    }
   ],
   "source": [
    "# размерность данных\n",
    "all_events.shape, train_events.shape"
   ]
  },
  {
   "cell_type": "code",
   "execution_count": 5,
   "metadata": {},
   "outputs": [
    {
     "data": {
      "text/plain": [
       "array([ True,  True,  True,  True,  True,  True,  True,  True,  True])"
      ]
     },
     "execution_count": 5,
     "metadata": {},
     "output_type": "execute_result"
    }
   ],
   "source": [
    "# проверка на возможность объединения данных\n",
    "all_events.columns == train_events.columns"
   ]
  },
  {
   "cell_type": "code",
   "execution_count": 30,
   "metadata": {},
   "outputs": [
    {
     "data": {
      "text/html": [
       "<div>\n",
       "<style scoped>\n",
       "    .dataframe tbody tr th:only-of-type {\n",
       "        vertical-align: middle;\n",
       "    }\n",
       "\n",
       "    .dataframe tbody tr th {\n",
       "        vertical-align: top;\n",
       "    }\n",
       "\n",
       "    .dataframe thead th {\n",
       "        text-align: right;\n",
       "    }\n",
       "</style>\n",
       "<table border=\"1\" class=\"dataframe\">\n",
       "  <thead>\n",
       "    <tr style=\"text-align: right;\">\n",
       "      <th></th>\n",
       "      <th>event_timestamp</th>\n",
       "      <th>region</th>\n",
       "      <th>ua_device_type</th>\n",
       "      <th>ua_client_type</th>\n",
       "      <th>ua_os</th>\n",
       "      <th>ua_client_name</th>\n",
       "      <th>total_watchtime</th>\n",
       "      <th>rutube_video_id</th>\n",
       "      <th>viewer_uid</th>\n",
       "    </tr>\n",
       "  </thead>\n",
       "  <tbody>\n",
       "    <tr>\n",
       "      <th>0</th>\n",
       "      <td>2024-06-01 13:08:30+03:00</td>\n",
       "      <td>Tatarstan Republic</td>\n",
       "      <td>smartphone</td>\n",
       "      <td>browser</td>\n",
       "      <td>Android</td>\n",
       "      <td>Chrome Mobile</td>\n",
       "      <td>60</td>\n",
       "      <td>video_395879</td>\n",
       "      <td>10813370</td>\n",
       "    </tr>\n",
       "    <tr>\n",
       "      <th>1</th>\n",
       "      <td>2024-06-01 14:30:00+03:00</td>\n",
       "      <td>Bashkortostan Republic</td>\n",
       "      <td>smartphone</td>\n",
       "      <td>mobile app</td>\n",
       "      <td>Android</td>\n",
       "      <td>Rutube</td>\n",
       "      <td>60</td>\n",
       "      <td>video_216518</td>\n",
       "      <td>10512324</td>\n",
       "    </tr>\n",
       "    <tr>\n",
       "      <th>2</th>\n",
       "      <td>2024-06-01 18:48:12+03:00</td>\n",
       "      <td>Novosibirsk Oblast</td>\n",
       "      <td>smartphone</td>\n",
       "      <td>mobile app</td>\n",
       "      <td>Android</td>\n",
       "      <td>Rutube</td>\n",
       "      <td>121</td>\n",
       "      <td>video_41225</td>\n",
       "      <td>10951137</td>\n",
       "    </tr>\n",
       "    <tr>\n",
       "      <th>3</th>\n",
       "      <td>2024-06-01 16:32:36+03:00</td>\n",
       "      <td>Moscow</td>\n",
       "      <td>desktop</td>\n",
       "      <td>browser</td>\n",
       "      <td>Windows</td>\n",
       "      <td>Yandex Browser</td>\n",
       "      <td>2324</td>\n",
       "      <td>video_215886</td>\n",
       "      <td>10912434</td>\n",
       "    </tr>\n",
       "    <tr>\n",
       "      <th>4</th>\n",
       "      <td>2024-06-01 00:57:04+03:00</td>\n",
       "      <td>Moscow Oblast</td>\n",
       "      <td>smartphone</td>\n",
       "      <td>mobile app</td>\n",
       "      <td>Android</td>\n",
       "      <td>Rutube</td>\n",
       "      <td>6830</td>\n",
       "      <td>video_43631</td>\n",
       "      <td>10223585</td>\n",
       "    </tr>\n",
       "  </tbody>\n",
       "</table>\n",
       "</div>"
      ],
      "text/plain": [
       "             event_timestamp                  region ua_device_type  \\\n",
       "0  2024-06-01 13:08:30+03:00      Tatarstan Republic     smartphone   \n",
       "1  2024-06-01 14:30:00+03:00  Bashkortostan Republic     smartphone   \n",
       "2  2024-06-01 18:48:12+03:00      Novosibirsk Oblast     smartphone   \n",
       "3  2024-06-01 16:32:36+03:00                  Moscow        desktop   \n",
       "4  2024-06-01 00:57:04+03:00           Moscow Oblast     smartphone   \n",
       "\n",
       "  ua_client_type    ua_os  ua_client_name  total_watchtime rutube_video_id  \\\n",
       "0        browser  Android   Chrome Mobile               60    video_395879   \n",
       "1     mobile app  Android          Rutube               60    video_216518   \n",
       "2     mobile app  Android          Rutube              121     video_41225   \n",
       "3        browser  Windows  Yandex Browser             2324    video_215886   \n",
       "4     mobile app  Android          Rutube             6830     video_43631   \n",
       "\n",
       "   viewer_uid  \n",
       "0    10813370  \n",
       "1    10512324  \n",
       "2    10951137  \n",
       "3    10912434  \n",
       "4    10223585  "
      ]
     },
     "execution_count": 30,
     "metadata": {},
     "output_type": "execute_result"
    }
   ],
   "source": [
    "# объединение данных\n",
    "events_df = pd.concat([all_events, train_events])\n",
    "events_df.head()"
   ]
  },
  {
   "cell_type": "markdown",
   "metadata": {},
   "source": [
    "Описание признаков\n",
    "* event_date : Дата события\n",
    "* viewer_uid : Идентификатор пользователя\n",
    "* region : Регион пользователя\n",
    "* rutube_video_id : Идентификатор видео\n",
    "* ua_device_type : Устройство пользователя\n",
    "* ua_client_type : Приложение/браузер \n",
    "* ua_os : Операционная система устройства пользователя\n",
    "* ua_client_name : Веб-браузер/приложение, с которого пользователь просматривал видео\n",
    "* total_watchtime : Время просмотра в секундах"
   ]
  },
  {
   "cell_type": "code",
   "execution_count": 31,
   "metadata": {},
   "outputs": [
    {
     "data": {
      "text/plain": [
       "True"
      ]
     },
     "execution_count": 31,
     "metadata": {},
     "output_type": "execute_result"
    }
   ],
   "source": [
    "# проверка соответствия размерности данных\n",
    "len(all_events) + len(train_events) == len(events_df)"
   ]
  },
  {
   "cell_type": "code",
   "execution_count": 32,
   "metadata": {},
   "outputs": [],
   "source": [
    "# очистка памяти\n",
    "del all_events\n",
    "del train_events"
   ]
  },
  {
   "cell_type": "code",
   "execution_count": 6,
   "metadata": {},
   "outputs": [
    {
     "data": {
      "text/html": [
       "<div>\n",
       "<style scoped>\n",
       "    .dataframe tbody tr th:only-of-type {\n",
       "        vertical-align: middle;\n",
       "    }\n",
       "\n",
       "    .dataframe tbody tr th {\n",
       "        vertical-align: top;\n",
       "    }\n",
       "\n",
       "    .dataframe thead th {\n",
       "        text-align: right;\n",
       "    }\n",
       "</style>\n",
       "<table border=\"1\" class=\"dataframe\">\n",
       "  <thead>\n",
       "    <tr style=\"text-align: right;\">\n",
       "      <th></th>\n",
       "      <th>Регион en</th>\n",
       "      <th>Регион ru</th>\n",
       "      <th>timezone</th>\n",
       "      <th>lat</th>\n",
       "      <th>lon</th>\n",
       "    </tr>\n",
       "  </thead>\n",
       "  <tbody>\n",
       "    <tr>\n",
       "      <th>0</th>\n",
       "      <td>Kursk Oblast</td>\n",
       "      <td>Курск</td>\n",
       "      <td>UTC+3</td>\n",
       "      <td>51.7388</td>\n",
       "      <td>36.1874</td>\n",
       "    </tr>\n",
       "    <tr>\n",
       "      <th>1</th>\n",
       "      <td>Ulyanovsk</td>\n",
       "      <td>Ульяновск</td>\n",
       "      <td>UTC+4</td>\n",
       "      <td>54.3520</td>\n",
       "      <td>48.3663</td>\n",
       "    </tr>\n",
       "    <tr>\n",
       "      <th>2</th>\n",
       "      <td>Volgograd Oblast</td>\n",
       "      <td>Волгоград</td>\n",
       "      <td>UTC+4</td>\n",
       "      <td>48.7080</td>\n",
       "      <td>44.5130</td>\n",
       "    </tr>\n",
       "    <tr>\n",
       "      <th>3</th>\n",
       "      <td>Novgorod Oblast</td>\n",
       "      <td>Великий Новгород</td>\n",
       "      <td>UTC+3</td>\n",
       "      <td>58.5161</td>\n",
       "      <td>31.2756</td>\n",
       "    </tr>\n",
       "    <tr>\n",
       "      <th>4</th>\n",
       "      <td>Tambov Oblast</td>\n",
       "      <td>Тамбов</td>\n",
       "      <td>UTC+3</td>\n",
       "      <td>52.7311</td>\n",
       "      <td>41.4423</td>\n",
       "    </tr>\n",
       "  </tbody>\n",
       "</table>\n",
       "</div>"
      ],
      "text/plain": [
       "          Регион en         Регион ru timezone      lat      lon\n",
       "0      Kursk Oblast             Курск    UTC+3  51.7388  36.1874\n",
       "1         Ulyanovsk         Ульяновск    UTC+4  54.3520  48.3663\n",
       "2  Volgograd Oblast         Волгоград    UTC+4  48.7080  44.5130\n",
       "3   Novgorod Oblast  Великий Новгород    UTC+3  58.5161  31.2756\n",
       "4     Tambov Oblast            Тамбов    UTC+3  52.7311  41.4423"
      ]
     },
     "execution_count": 6,
     "metadata": {},
     "output_type": "execute_result"
    }
   ],
   "source": [
    "# загрузка данных с временными зонами регионов\n",
    "region_tz = pd.read_csv(\"data/region_tz.csv\")\n",
    "region_tz.head()"
   ]
  },
  {
   "cell_type": "code",
   "execution_count": 34,
   "metadata": {},
   "outputs": [
    {
     "data": {
      "text/plain": [
       "((10199240, 9), (116, 5))"
      ]
     },
     "execution_count": 34,
     "metadata": {},
     "output_type": "execute_result"
    }
   ],
   "source": [
    "# размерность данных\n",
    "events_df.shape, region_tz.shape"
   ]
  },
  {
   "cell_type": "code",
   "execution_count": 7,
   "metadata": {},
   "outputs": [
    {
     "data": {
      "text/html": [
       "<div>\n",
       "<style scoped>\n",
       "    .dataframe tbody tr th:only-of-type {\n",
       "        vertical-align: middle;\n",
       "    }\n",
       "\n",
       "    .dataframe tbody tr th {\n",
       "        vertical-align: top;\n",
       "    }\n",
       "\n",
       "    .dataframe thead th {\n",
       "        text-align: right;\n",
       "    }\n",
       "</style>\n",
       "<table border=\"1\" class=\"dataframe\">\n",
       "  <thead>\n",
       "    <tr style=\"text-align: right;\">\n",
       "      <th></th>\n",
       "      <th>event_timestamp</th>\n",
       "      <th>region</th>\n",
       "      <th>ua_device_type</th>\n",
       "      <th>ua_client_type</th>\n",
       "      <th>ua_os</th>\n",
       "      <th>ua_client_name</th>\n",
       "      <th>total_watchtime</th>\n",
       "      <th>rutube_video_id</th>\n",
       "      <th>viewer_uid</th>\n",
       "      <th>Регион en</th>\n",
       "      <th>Регион ru</th>\n",
       "      <th>timezone</th>\n",
       "      <th>lat</th>\n",
       "      <th>lon</th>\n",
       "    </tr>\n",
       "  </thead>\n",
       "  <tbody>\n",
       "    <tr>\n",
       "      <th>0</th>\n",
       "      <td>2024-06-01 06:40:58+03:00</td>\n",
       "      <td>Chelyabinsk</td>\n",
       "      <td>desktop</td>\n",
       "      <td>browser</td>\n",
       "      <td>Windows</td>\n",
       "      <td>Yandex Browser</td>\n",
       "      <td>1883</td>\n",
       "      <td>video_133074</td>\n",
       "      <td>10067243</td>\n",
       "      <td>Chelyabinsk</td>\n",
       "      <td>Челябинск</td>\n",
       "      <td>UTC+5</td>\n",
       "      <td>55.1644</td>\n",
       "      <td>61.4368</td>\n",
       "    </tr>\n",
       "    <tr>\n",
       "      <th>1</th>\n",
       "      <td>2024-06-01 19:33:24+03:00</td>\n",
       "      <td>Bashkortostan Republic</td>\n",
       "      <td>smartphone</td>\n",
       "      <td>mobile app</td>\n",
       "      <td>Android</td>\n",
       "      <td>Rutube</td>\n",
       "      <td>512</td>\n",
       "      <td>video_362960</td>\n",
       "      <td>10245341</td>\n",
       "      <td>Bashkortostan Republic</td>\n",
       "      <td>Уфа</td>\n",
       "      <td>UTC+5</td>\n",
       "      <td>54.7388</td>\n",
       "      <td>55.9721</td>\n",
       "    </tr>\n",
       "    <tr>\n",
       "      <th>2</th>\n",
       "      <td>2024-06-01 21:30:43+03:00</td>\n",
       "      <td>St.-Petersburg</td>\n",
       "      <td>desktop</td>\n",
       "      <td>browser</td>\n",
       "      <td>Windows</td>\n",
       "      <td>Chrome</td>\n",
       "      <td>5647</td>\n",
       "      <td>video_96775</td>\n",
       "      <td>10894333</td>\n",
       "      <td>St.-Petersburg</td>\n",
       "      <td>Санкт-Петербург</td>\n",
       "      <td>UTC+3</td>\n",
       "      <td>59.9343</td>\n",
       "      <td>30.3351</td>\n",
       "    </tr>\n",
       "    <tr>\n",
       "      <th>3</th>\n",
       "      <td>2024-06-01 23:03:42+03:00</td>\n",
       "      <td>Moscow</td>\n",
       "      <td>smartphone</td>\n",
       "      <td>mobile app</td>\n",
       "      <td>Android</td>\n",
       "      <td>Rutube</td>\n",
       "      <td>1521</td>\n",
       "      <td>video_161610</td>\n",
       "      <td>10029092</td>\n",
       "      <td>Moscow</td>\n",
       "      <td>Москва</td>\n",
       "      <td>UTC+3</td>\n",
       "      <td>55.7558</td>\n",
       "      <td>37.6173</td>\n",
       "    </tr>\n",
       "    <tr>\n",
       "      <th>4</th>\n",
       "      <td>2024-06-01 22:48:09+03:00</td>\n",
       "      <td>Moscow</td>\n",
       "      <td>smartphone</td>\n",
       "      <td>mobile app</td>\n",
       "      <td>Android</td>\n",
       "      <td>Rutube</td>\n",
       "      <td>71</td>\n",
       "      <td>video_116245</td>\n",
       "      <td>10452976</td>\n",
       "      <td>Moscow</td>\n",
       "      <td>Москва</td>\n",
       "      <td>UTC+3</td>\n",
       "      <td>55.7558</td>\n",
       "      <td>37.6173</td>\n",
       "    </tr>\n",
       "  </tbody>\n",
       "</table>\n",
       "</div>"
      ],
      "text/plain": [
       "             event_timestamp                  region ua_device_type  \\\n",
       "0  2024-06-01 06:40:58+03:00             Chelyabinsk        desktop   \n",
       "1  2024-06-01 19:33:24+03:00  Bashkortostan Republic     smartphone   \n",
       "2  2024-06-01 21:30:43+03:00          St.-Petersburg        desktop   \n",
       "3  2024-06-01 23:03:42+03:00                  Moscow     smartphone   \n",
       "4  2024-06-01 22:48:09+03:00                  Moscow     smartphone   \n",
       "\n",
       "  ua_client_type    ua_os  ua_client_name  total_watchtime rutube_video_id  \\\n",
       "0        browser  Windows  Yandex Browser             1883    video_133074   \n",
       "1     mobile app  Android          Rutube              512    video_362960   \n",
       "2        browser  Windows          Chrome             5647     video_96775   \n",
       "3     mobile app  Android          Rutube             1521    video_161610   \n",
       "4     mobile app  Android          Rutube               71    video_116245   \n",
       "\n",
       "   viewer_uid               Регион en        Регион ru timezone      lat  \\\n",
       "0    10067243             Chelyabinsk        Челябинск    UTC+5  55.1644   \n",
       "1    10245341  Bashkortostan Republic              Уфа    UTC+5  54.7388   \n",
       "2    10894333          St.-Petersburg  Санкт-Петербург    UTC+3  59.9343   \n",
       "3    10029092                  Moscow           Москва    UTC+3  55.7558   \n",
       "4    10452976                  Moscow           Москва    UTC+3  55.7558   \n",
       "\n",
       "       lon  \n",
       "0  61.4368  \n",
       "1  55.9721  \n",
       "2  30.3351  \n",
       "3  37.6173  \n",
       "4  37.6173  "
      ]
     },
     "execution_count": 7,
     "metadata": {},
     "output_type": "execute_result"
    }
   ],
   "source": [
    "# объединение данных с историей просмотров и временными зонами регионов\n",
    "events_df = train_events.merge(region_tz, left_on=\"region\", right_on=\"Регион en\")\n",
    "events_df.head() "
   ]
  },
  {
   "cell_type": "code",
   "execution_count": 8,
   "metadata": {},
   "outputs": [
    {
     "data": {
      "text/plain": [
       "(1759616, 14)"
      ]
     },
     "execution_count": 8,
     "metadata": {},
     "output_type": "execute_result"
    }
   ],
   "source": [
    "# размерность данных\n",
    "events_df.shape"
   ]
  },
  {
   "cell_type": "code",
   "execution_count": 9,
   "metadata": {},
   "outputs": [],
   "source": [
    "# очистка памяти\n",
    "del region_tz"
   ]
  },
  {
   "cell_type": "code",
   "execution_count": 10,
   "metadata": {},
   "outputs": [
    {
     "data": {
      "text/plain": [
       "Index(['event_timestamp', 'region', 'ua_device_type', 'ua_client_type',\n",
       "       'ua_os', 'ua_client_name', 'total_watchtime', 'rutube_video_id',\n",
       "       'viewer_uid', 'Регион en', 'Регион ru', 'timezone', 'lat', 'lon'],\n",
       "      dtype='object')"
      ]
     },
     "execution_count": 10,
     "metadata": {},
     "output_type": "execute_result"
    }
   ],
   "source": [
    "# признаки данных\n",
    "events_df.columns"
   ]
  },
  {
   "cell_type": "code",
   "execution_count": 11,
   "metadata": {},
   "outputs": [
    {
     "data": {
      "text/plain": [
       "event_timestamp     object\n",
       "region              object\n",
       "ua_device_type      object\n",
       "ua_client_type      object\n",
       "ua_os               object\n",
       "ua_client_name      object\n",
       "total_watchtime      int64\n",
       "rutube_video_id     object\n",
       "viewer_uid           int64\n",
       "Регион en           object\n",
       "Регион ru           object\n",
       "timezone            object\n",
       "lat                float64\n",
       "lon                float64\n",
       "dtype: object"
      ]
     },
     "execution_count": 11,
     "metadata": {},
     "output_type": "execute_result"
    }
   ],
   "source": [
    "# соответствие типов данных\n",
    "events_df.dtypes"
   ]
  },
  {
   "cell_type": "markdown",
   "metadata": {},
   "source": [
    "Тип данных - дата события **нерелевантен**"
   ]
  },
  {
   "cell_type": "code",
   "execution_count": 12,
   "metadata": {},
   "outputs": [],
   "source": [
    "# приведение в соответствие типа данных даты события\n",
    "events_df[\"event_timestamp\"] = pd.to_datetime(events_df[\"event_timestamp\"])"
   ]
  },
  {
   "cell_type": "code",
   "execution_count": 13,
   "metadata": {},
   "outputs": [
    {
     "data": {
      "text/plain": [
       "event_timestamp    datetime64[ns, UTC+03:00]\n",
       "region                                object\n",
       "ua_device_type                        object\n",
       "ua_client_type                        object\n",
       "ua_os                                 object\n",
       "ua_client_name                        object\n",
       "total_watchtime                        int64\n",
       "rutube_video_id                       object\n",
       "viewer_uid                             int64\n",
       "Регион en                             object\n",
       "Регион ru                             object\n",
       "timezone                              object\n",
       "lat                                  float64\n",
       "lon                                  float64\n",
       "dtype: object"
      ]
     },
     "execution_count": 13,
     "metadata": {},
     "output_type": "execute_result"
    }
   ],
   "source": [
    "# соответствие типов данных\n",
    "events_df.dtypes"
   ]
  },
  {
   "cell_type": "code",
   "execution_count": 14,
   "metadata": {},
   "outputs": [
    {
     "data": {
      "text/plain": [
       "(1759616, 14)"
      ]
     },
     "execution_count": 14,
     "metadata": {},
     "output_type": "execute_result"
    }
   ],
   "source": [
    "# проверка корректности объединения данных \n",
    "events_df.shape"
   ]
  },
  {
   "cell_type": "markdown",
   "metadata": {},
   "source": [
    "Данные объединены **без** потерь"
   ]
  },
  {
   "cell_type": "code",
   "execution_count": 16,
   "metadata": {},
   "outputs": [],
   "source": [
    "def get_utc_tz(tz: str) -> int:\n",
    "    \"\"\" получение часовой метки временной зоны\n",
    "\n",
    "    Args:\n",
    "        tz (str): временная зона\n",
    "\n",
    "    Returns:\n",
    "        int: часовая метка\n",
    "    \"\"\"\n",
    "\n",
    "    return int(tz[3:])"
   ]
  },
  {
   "cell_type": "code",
   "execution_count": 17,
   "metadata": {},
   "outputs": [],
   "source": [
    "# получение временной метки\n",
    "events_df[\"timezone\"] = events_df[\"timezone\"].map(get_utc_tz)"
   ]
  },
  {
   "cell_type": "code",
   "execution_count": 18,
   "metadata": {},
   "outputs": [],
   "source": [
    "#  разница во времени относительно GMT +3\n",
    "events_df[\"gmt diff\"] = events_df[\"timezone\"] - 3"
   ]
  },
  {
   "cell_type": "code",
   "execution_count": 19,
   "metadata": {},
   "outputs": [
    {
     "data": {
      "text/html": [
       "<div>\n",
       "<style scoped>\n",
       "    .dataframe tbody tr th:only-of-type {\n",
       "        vertical-align: middle;\n",
       "    }\n",
       "\n",
       "    .dataframe tbody tr th {\n",
       "        vertical-align: top;\n",
       "    }\n",
       "\n",
       "    .dataframe thead th {\n",
       "        text-align: right;\n",
       "    }\n",
       "</style>\n",
       "<table border=\"1\" class=\"dataframe\">\n",
       "  <thead>\n",
       "    <tr style=\"text-align: right;\">\n",
       "      <th></th>\n",
       "      <th>event_timestamp</th>\n",
       "      <th>region</th>\n",
       "      <th>ua_device_type</th>\n",
       "      <th>ua_client_type</th>\n",
       "      <th>ua_os</th>\n",
       "      <th>ua_client_name</th>\n",
       "      <th>total_watchtime</th>\n",
       "      <th>rutube_video_id</th>\n",
       "      <th>viewer_uid</th>\n",
       "      <th>Регион en</th>\n",
       "      <th>Регион ru</th>\n",
       "      <th>timezone</th>\n",
       "      <th>lat</th>\n",
       "      <th>lon</th>\n",
       "      <th>gmt diff</th>\n",
       "    </tr>\n",
       "  </thead>\n",
       "  <tbody>\n",
       "    <tr>\n",
       "      <th>0</th>\n",
       "      <td>2024-06-01 06:40:58+03:00</td>\n",
       "      <td>Chelyabinsk</td>\n",
       "      <td>desktop</td>\n",
       "      <td>browser</td>\n",
       "      <td>Windows</td>\n",
       "      <td>Yandex Browser</td>\n",
       "      <td>1883</td>\n",
       "      <td>video_133074</td>\n",
       "      <td>10067243</td>\n",
       "      <td>Chelyabinsk</td>\n",
       "      <td>Челябинск</td>\n",
       "      <td>5</td>\n",
       "      <td>55.1644</td>\n",
       "      <td>61.4368</td>\n",
       "      <td>2</td>\n",
       "    </tr>\n",
       "    <tr>\n",
       "      <th>1</th>\n",
       "      <td>2024-06-01 19:33:24+03:00</td>\n",
       "      <td>Bashkortostan Republic</td>\n",
       "      <td>smartphone</td>\n",
       "      <td>mobile app</td>\n",
       "      <td>Android</td>\n",
       "      <td>Rutube</td>\n",
       "      <td>512</td>\n",
       "      <td>video_362960</td>\n",
       "      <td>10245341</td>\n",
       "      <td>Bashkortostan Republic</td>\n",
       "      <td>Уфа</td>\n",
       "      <td>5</td>\n",
       "      <td>54.7388</td>\n",
       "      <td>55.9721</td>\n",
       "      <td>2</td>\n",
       "    </tr>\n",
       "    <tr>\n",
       "      <th>2</th>\n",
       "      <td>2024-06-01 21:30:43+03:00</td>\n",
       "      <td>St.-Petersburg</td>\n",
       "      <td>desktop</td>\n",
       "      <td>browser</td>\n",
       "      <td>Windows</td>\n",
       "      <td>Chrome</td>\n",
       "      <td>5647</td>\n",
       "      <td>video_96775</td>\n",
       "      <td>10894333</td>\n",
       "      <td>St.-Petersburg</td>\n",
       "      <td>Санкт-Петербург</td>\n",
       "      <td>3</td>\n",
       "      <td>59.9343</td>\n",
       "      <td>30.3351</td>\n",
       "      <td>0</td>\n",
       "    </tr>\n",
       "    <tr>\n",
       "      <th>3</th>\n",
       "      <td>2024-06-01 23:03:42+03:00</td>\n",
       "      <td>Moscow</td>\n",
       "      <td>smartphone</td>\n",
       "      <td>mobile app</td>\n",
       "      <td>Android</td>\n",
       "      <td>Rutube</td>\n",
       "      <td>1521</td>\n",
       "      <td>video_161610</td>\n",
       "      <td>10029092</td>\n",
       "      <td>Moscow</td>\n",
       "      <td>Москва</td>\n",
       "      <td>3</td>\n",
       "      <td>55.7558</td>\n",
       "      <td>37.6173</td>\n",
       "      <td>0</td>\n",
       "    </tr>\n",
       "    <tr>\n",
       "      <th>4</th>\n",
       "      <td>2024-06-01 22:48:09+03:00</td>\n",
       "      <td>Moscow</td>\n",
       "      <td>smartphone</td>\n",
       "      <td>mobile app</td>\n",
       "      <td>Android</td>\n",
       "      <td>Rutube</td>\n",
       "      <td>71</td>\n",
       "      <td>video_116245</td>\n",
       "      <td>10452976</td>\n",
       "      <td>Moscow</td>\n",
       "      <td>Москва</td>\n",
       "      <td>3</td>\n",
       "      <td>55.7558</td>\n",
       "      <td>37.6173</td>\n",
       "      <td>0</td>\n",
       "    </tr>\n",
       "  </tbody>\n",
       "</table>\n",
       "</div>"
      ],
      "text/plain": [
       "            event_timestamp                  region ua_device_type  \\\n",
       "0 2024-06-01 06:40:58+03:00             Chelyabinsk        desktop   \n",
       "1 2024-06-01 19:33:24+03:00  Bashkortostan Republic     smartphone   \n",
       "2 2024-06-01 21:30:43+03:00          St.-Petersburg        desktop   \n",
       "3 2024-06-01 23:03:42+03:00                  Moscow     smartphone   \n",
       "4 2024-06-01 22:48:09+03:00                  Moscow     smartphone   \n",
       "\n",
       "  ua_client_type    ua_os  ua_client_name  total_watchtime rutube_video_id  \\\n",
       "0        browser  Windows  Yandex Browser             1883    video_133074   \n",
       "1     mobile app  Android          Rutube              512    video_362960   \n",
       "2        browser  Windows          Chrome             5647     video_96775   \n",
       "3     mobile app  Android          Rutube             1521    video_161610   \n",
       "4     mobile app  Android          Rutube               71    video_116245   \n",
       "\n",
       "   viewer_uid               Регион en        Регион ru  timezone      lat  \\\n",
       "0    10067243             Chelyabinsk        Челябинск         5  55.1644   \n",
       "1    10245341  Bashkortostan Republic              Уфа         5  54.7388   \n",
       "2    10894333          St.-Petersburg  Санкт-Петербург         3  59.9343   \n",
       "3    10029092                  Moscow           Москва         3  55.7558   \n",
       "4    10452976                  Moscow           Москва         3  55.7558   \n",
       "\n",
       "       lon  gmt diff  \n",
       "0  61.4368         2  \n",
       "1  55.9721         2  \n",
       "2  30.3351         0  \n",
       "3  37.6173         0  \n",
       "4  37.6173         0  "
      ]
     },
     "execution_count": 19,
     "metadata": {},
     "output_type": "execute_result"
    }
   ],
   "source": [
    "# вывод данных\n",
    "events_df.head()"
   ]
  },
  {
   "cell_type": "code",
   "execution_count": 20,
   "metadata": {},
   "outputs": [],
   "source": [
    "# получение регионального времени\n",
    "current_event_time = []\n",
    "# проход в цикле по дате события и разницы во времени относительно GMT +3\n",
    "for event_time, gmt_diff in events_df.iloc[:,[0, -1]].values:\n",
    "    # разница во времени\n",
    "    delta = datetime.timedelta(hours=gmt_diff)\n",
    "    # получение регионально времени в зависимости от разницы во времени\n",
    "    if gmt_diff < 0:\n",
    "        current_event_time.append(event_time - delta)\n",
    "    elif gmt_diff > 0:\n",
    "        current_event_time.append(event_time + delta)\n",
    "    else:\n",
    "        current_event_time.append(event_time)"
   ]
  },
  {
   "cell_type": "code",
   "execution_count": 21,
   "metadata": {},
   "outputs": [],
   "source": [
    "# признак регионального времени\n",
    "events_df[\"current_event_time\"] = current_event_time"
   ]
  },
  {
   "cell_type": "code",
   "execution_count": 22,
   "metadata": {},
   "outputs": [],
   "source": [
    "# очистка памяти\n",
    "del current_event_time"
   ]
  },
  {
   "cell_type": "code",
   "execution_count": 23,
   "metadata": {},
   "outputs": [
    {
     "data": {
      "text/plain": [
       "min   2024-06-01 00:00:02+03:00\n",
       "max   2024-07-01 08:40:13+03:00\n",
       "Name: current_event_time, dtype: datetime64[ns, UTC+03:00]"
      ]
     },
     "execution_count": 23,
     "metadata": {},
     "output_type": "execute_result"
    }
   ],
   "source": [
    "# временной диапазон\n",
    "events_df[\"current_event_time\"].agg([\"min\", \"max\"])"
   ]
  },
  {
   "cell_type": "markdown",
   "metadata": {},
   "source": [
    "Предоставлены данные за месяц **июнь** дня (с 1 июня по 1 июля 2024 года)"
   ]
  },
  {
   "cell_type": "markdown",
   "metadata": {},
   "source": [
    "Формирование признака времени дня \n",
    "\n",
    "00.00 до 06.00 **ночь** \\\n",
    "06.00 до 12.00 **утро** \\\n",
    "12.00 до 18.00 **день** \\\n",
    "18.00 до 00.00 **вечер**"
   ]
  },
  {
   "cell_type": "code",
   "execution_count": 24,
   "metadata": {},
   "outputs": [],
   "source": [
    "# региональное время\n",
    "events_df[\"current_time\"] = events_df[\"current_event_time\"].dt.time"
   ]
  },
  {
   "cell_type": "code",
   "execution_count": 25,
   "metadata": {},
   "outputs": [],
   "source": [
    "# временные диапазоны времени суток\n",
    "cut_labels = [\"ночь\", \"утро\", \"день\", \"вечер\"]\n",
    "cut_bins = [datetime.time.fromisoformat(\"00:00:00\"),\n",
    "            datetime.time.fromisoformat(\"06:00:00\"),\n",
    "            datetime.time.fromisoformat(\"12:00:00\"),\n",
    "            datetime.time.fromisoformat(\"18:00:00\"),\n",
    "            datetime.time.fromisoformat(\"23:59:59\")]"
   ]
  },
  {
   "cell_type": "code",
   "execution_count": 26,
   "metadata": {},
   "outputs": [],
   "source": [
    "# временные диапазоны времени суток\n",
    "events_df[\"time_cut\"] = pd.cut(events_df[\"current_time\"], bins=cut_bins, labels=cut_labels)"
   ]
  },
  {
   "cell_type": "code",
   "execution_count": 27,
   "metadata": {},
   "outputs": [
    {
     "data": {
      "text/plain": [
       "time_cut\n",
       "вечер    36.85 %\n",
       "день     28.89 %\n",
       "утро     19.92 %\n",
       "ночь     14.34 %\n",
       "Name: proportion, dtype: object"
      ]
     },
     "execution_count": 27,
     "metadata": {},
     "output_type": "execute_result"
    }
   ],
   "source": [
    "# количественное значение по категориям\n",
    "(events_df[\"time_cut\"].value_counts(normalize=True) * 100).round(2).astype(\"str\") + \" %\""
   ]
  },
  {
   "cell_type": "markdown",
   "metadata": {},
   "source": [
    "Данные по категориям времени суток **сбалансированы** и **релевантны**"
   ]
  },
  {
   "cell_type": "code",
   "execution_count": 28,
   "metadata": {},
   "outputs": [],
   "source": [
    "def make_harmonic_features(value: int, angle: str=\"cos\", period: int=24) -> float:\n",
    "    \"\"\"преобразование времени в координатную плоскость\n",
    "\n",
    "    Args:\n",
    "        value (int): время\n",
    "        angle (str, optional): функция преобразования. Defaults to \"cos\".\n",
    "        period (int, optional): период. Defaults to 24.\n",
    "\n",
    "    Returns:\n",
    "        float: координата на плоскости\n",
    "    \"\"\"\n",
    "    value *= 2 *  np.pi / period\n",
    "    match angle:\n",
    "        case \"cos\":\n",
    "            return np.cos(value)\n",
    "        case \"sin\":\n",
    "            return np.sin(value)"
   ]
  },
  {
   "cell_type": "code",
   "execution_count": 29,
   "metadata": {},
   "outputs": [],
   "source": [
    "# получение координат для часа\n",
    "events_df[\"current_hour_x\"] = events_df[\"current_event_time\"].dt.hour.map(make_harmonic_features)\n",
    "events_df[\"current_hour_y\"] = events_df[\"current_event_time\"].dt.hour.map(lambda x: make_harmonic_features(x, angle=\"sin\"))"
   ]
  },
  {
   "cell_type": "code",
   "execution_count": 30,
   "metadata": {},
   "outputs": [],
   "source": [
    "# получение координат для минут\n",
    "events_df[\"current_minute_x\"] = events_df[\"current_event_time\"].dt.minute.map(lambda x: make_harmonic_features(x, period=60))\n",
    "events_df[\"current_minute_y\"] = events_df[\"current_event_time\"].dt.minute.map(lambda x: make_harmonic_features(x, angle=\"sin\", period=60))"
   ]
  },
  {
   "cell_type": "code",
   "execution_count": 31,
   "metadata": {},
   "outputs": [],
   "source": [
    "#  признак дня недели\n",
    "events_df[\"current_weekday\"] = events_df[\"current_event_time\"].dt.weekday"
   ]
  },
  {
   "cell_type": "code",
   "execution_count": 32,
   "metadata": {},
   "outputs": [],
   "source": [
    "def is_day_off(weekday: int) -> bool:\n",
    "    \"\"\"проверяет - является ли день просмотра выходным днём\n",
    "\n",
    "    Args:\n",
    "        weekday (int): день недели\n",
    "\n",
    "    Returns:\n",
    "        bool: является ли день просмотра выходным днём\n",
    "    \"\"\"\n",
    "    return weekday in [5, 6]"
   ]
  },
  {
   "cell_type": "code",
   "execution_count": 33,
   "metadata": {},
   "outputs": [],
   "source": [
    "#  признак выходного дня недели\n",
    "events_df[\"is_day_off\"] = events_df[\"current_weekday\"].map(is_day_off) "
   ]
  },
  {
   "cell_type": "code",
   "execution_count": 34,
   "metadata": {},
   "outputs": [],
   "source": [
    "# получение координат для дня недели\n",
    "events_df[\"current_weekday_x\"] = events_df[\"current_weekday\"].map(lambda x: make_harmonic_features(x, period=7))\n",
    "events_df[\"current_weekday_y\"] = events_df[\"current_weekday\"].map(lambda x: make_harmonic_features(x, angle=\"sin\", period=7))"
   ]
  },
  {
   "cell_type": "code",
   "execution_count": 35,
   "metadata": {},
   "outputs": [
    {
     "data": {
      "text/html": [
       "<div>\n",
       "<style scoped>\n",
       "    .dataframe tbody tr th:only-of-type {\n",
       "        vertical-align: middle;\n",
       "    }\n",
       "\n",
       "    .dataframe tbody tr th {\n",
       "        vertical-align: top;\n",
       "    }\n",
       "\n",
       "    .dataframe thead th {\n",
       "        text-align: right;\n",
       "    }\n",
       "</style>\n",
       "<table border=\"1\" class=\"dataframe\">\n",
       "  <thead>\n",
       "    <tr style=\"text-align: right;\">\n",
       "      <th></th>\n",
       "      <th>event_timestamp</th>\n",
       "      <th>region</th>\n",
       "      <th>ua_device_type</th>\n",
       "      <th>ua_client_type</th>\n",
       "      <th>ua_os</th>\n",
       "      <th>ua_client_name</th>\n",
       "      <th>total_watchtime</th>\n",
       "      <th>rutube_video_id</th>\n",
       "      <th>viewer_uid</th>\n",
       "      <th>Регион en</th>\n",
       "      <th>...</th>\n",
       "      <th>current_time</th>\n",
       "      <th>time_cut</th>\n",
       "      <th>current_hour_x</th>\n",
       "      <th>current_hour_y</th>\n",
       "      <th>current_minute_x</th>\n",
       "      <th>current_minute_y</th>\n",
       "      <th>current_weekday</th>\n",
       "      <th>is_day_off</th>\n",
       "      <th>current_weekday_x</th>\n",
       "      <th>current_weekday_y</th>\n",
       "    </tr>\n",
       "  </thead>\n",
       "  <tbody>\n",
       "    <tr>\n",
       "      <th>0</th>\n",
       "      <td>2024-06-01 06:40:58+03:00</td>\n",
       "      <td>Chelyabinsk</td>\n",
       "      <td>desktop</td>\n",
       "      <td>browser</td>\n",
       "      <td>Windows</td>\n",
       "      <td>Yandex Browser</td>\n",
       "      <td>1883</td>\n",
       "      <td>video_133074</td>\n",
       "      <td>10067243</td>\n",
       "      <td>Chelyabinsk</td>\n",
       "      <td>...</td>\n",
       "      <td>08:40:58</td>\n",
       "      <td>утро</td>\n",
       "      <td>-0.500000</td>\n",
       "      <td>0.866025</td>\n",
       "      <td>-0.500000</td>\n",
       "      <td>-8.660254e-01</td>\n",
       "      <td>5</td>\n",
       "      <td>True</td>\n",
       "      <td>-0.222521</td>\n",
       "      <td>-0.974928</td>\n",
       "    </tr>\n",
       "    <tr>\n",
       "      <th>1</th>\n",
       "      <td>2024-06-01 19:33:24+03:00</td>\n",
       "      <td>Bashkortostan Republic</td>\n",
       "      <td>smartphone</td>\n",
       "      <td>mobile app</td>\n",
       "      <td>Android</td>\n",
       "      <td>Rutube</td>\n",
       "      <td>512</td>\n",
       "      <td>video_362960</td>\n",
       "      <td>10245341</td>\n",
       "      <td>Bashkortostan Republic</td>\n",
       "      <td>...</td>\n",
       "      <td>21:33:24</td>\n",
       "      <td>вечер</td>\n",
       "      <td>0.707107</td>\n",
       "      <td>-0.707107</td>\n",
       "      <td>-0.951057</td>\n",
       "      <td>-3.090170e-01</td>\n",
       "      <td>5</td>\n",
       "      <td>True</td>\n",
       "      <td>-0.222521</td>\n",
       "      <td>-0.974928</td>\n",
       "    </tr>\n",
       "    <tr>\n",
       "      <th>2</th>\n",
       "      <td>2024-06-01 21:30:43+03:00</td>\n",
       "      <td>St.-Petersburg</td>\n",
       "      <td>desktop</td>\n",
       "      <td>browser</td>\n",
       "      <td>Windows</td>\n",
       "      <td>Chrome</td>\n",
       "      <td>5647</td>\n",
       "      <td>video_96775</td>\n",
       "      <td>10894333</td>\n",
       "      <td>St.-Petersburg</td>\n",
       "      <td>...</td>\n",
       "      <td>21:30:43</td>\n",
       "      <td>вечер</td>\n",
       "      <td>0.707107</td>\n",
       "      <td>-0.707107</td>\n",
       "      <td>-1.000000</td>\n",
       "      <td>1.224647e-16</td>\n",
       "      <td>5</td>\n",
       "      <td>True</td>\n",
       "      <td>-0.222521</td>\n",
       "      <td>-0.974928</td>\n",
       "    </tr>\n",
       "    <tr>\n",
       "      <th>3</th>\n",
       "      <td>2024-06-01 23:03:42+03:00</td>\n",
       "      <td>Moscow</td>\n",
       "      <td>smartphone</td>\n",
       "      <td>mobile app</td>\n",
       "      <td>Android</td>\n",
       "      <td>Rutube</td>\n",
       "      <td>1521</td>\n",
       "      <td>video_161610</td>\n",
       "      <td>10029092</td>\n",
       "      <td>Moscow</td>\n",
       "      <td>...</td>\n",
       "      <td>23:03:42</td>\n",
       "      <td>вечер</td>\n",
       "      <td>0.965926</td>\n",
       "      <td>-0.258819</td>\n",
       "      <td>0.951057</td>\n",
       "      <td>3.090170e-01</td>\n",
       "      <td>5</td>\n",
       "      <td>True</td>\n",
       "      <td>-0.222521</td>\n",
       "      <td>-0.974928</td>\n",
       "    </tr>\n",
       "    <tr>\n",
       "      <th>4</th>\n",
       "      <td>2024-06-01 22:48:09+03:00</td>\n",
       "      <td>Moscow</td>\n",
       "      <td>smartphone</td>\n",
       "      <td>mobile app</td>\n",
       "      <td>Android</td>\n",
       "      <td>Rutube</td>\n",
       "      <td>71</td>\n",
       "      <td>video_116245</td>\n",
       "      <td>10452976</td>\n",
       "      <td>Moscow</td>\n",
       "      <td>...</td>\n",
       "      <td>22:48:09</td>\n",
       "      <td>вечер</td>\n",
       "      <td>0.866025</td>\n",
       "      <td>-0.500000</td>\n",
       "      <td>0.309017</td>\n",
       "      <td>-9.510565e-01</td>\n",
       "      <td>5</td>\n",
       "      <td>True</td>\n",
       "      <td>-0.222521</td>\n",
       "      <td>-0.974928</td>\n",
       "    </tr>\n",
       "  </tbody>\n",
       "</table>\n",
       "<p>5 rows × 26 columns</p>\n",
       "</div>"
      ],
      "text/plain": [
       "            event_timestamp                  region ua_device_type  \\\n",
       "0 2024-06-01 06:40:58+03:00             Chelyabinsk        desktop   \n",
       "1 2024-06-01 19:33:24+03:00  Bashkortostan Republic     smartphone   \n",
       "2 2024-06-01 21:30:43+03:00          St.-Petersburg        desktop   \n",
       "3 2024-06-01 23:03:42+03:00                  Moscow     smartphone   \n",
       "4 2024-06-01 22:48:09+03:00                  Moscow     smartphone   \n",
       "\n",
       "  ua_client_type    ua_os  ua_client_name  total_watchtime rutube_video_id  \\\n",
       "0        browser  Windows  Yandex Browser             1883    video_133074   \n",
       "1     mobile app  Android          Rutube              512    video_362960   \n",
       "2        browser  Windows          Chrome             5647     video_96775   \n",
       "3     mobile app  Android          Rutube             1521    video_161610   \n",
       "4     mobile app  Android          Rutube               71    video_116245   \n",
       "\n",
       "   viewer_uid               Регион en  ... current_time  time_cut  \\\n",
       "0    10067243             Chelyabinsk  ...     08:40:58      утро   \n",
       "1    10245341  Bashkortostan Republic  ...     21:33:24     вечер   \n",
       "2    10894333          St.-Petersburg  ...     21:30:43     вечер   \n",
       "3    10029092                  Moscow  ...     23:03:42     вечер   \n",
       "4    10452976                  Moscow  ...     22:48:09     вечер   \n",
       "\n",
       "   current_hour_x  current_hour_y  current_minute_x current_minute_y  \\\n",
       "0       -0.500000        0.866025         -0.500000    -8.660254e-01   \n",
       "1        0.707107       -0.707107         -0.951057    -3.090170e-01   \n",
       "2        0.707107       -0.707107         -1.000000     1.224647e-16   \n",
       "3        0.965926       -0.258819          0.951057     3.090170e-01   \n",
       "4        0.866025       -0.500000          0.309017    -9.510565e-01   \n",
       "\n",
       "  current_weekday is_day_off  current_weekday_x  current_weekday_y  \n",
       "0               5       True          -0.222521          -0.974928  \n",
       "1               5       True          -0.222521          -0.974928  \n",
       "2               5       True          -0.222521          -0.974928  \n",
       "3               5       True          -0.222521          -0.974928  \n",
       "4               5       True          -0.222521          -0.974928  \n",
       "\n",
       "[5 rows x 26 columns]"
      ]
     },
     "execution_count": 35,
     "metadata": {},
     "output_type": "execute_result"
    }
   ],
   "source": [
    "events_df.head()"
   ]
  },
  {
   "cell_type": "code",
   "execution_count": 38,
   "metadata": {},
   "outputs": [
    {
     "data": {
      "text/plain": [
       "(1759616, 26)"
      ]
     },
     "execution_count": 38,
     "metadata": {},
     "output_type": "execute_result"
    }
   ],
   "source": [
    "events_df.shape"
   ]
  },
  {
   "cell_type": "code",
   "execution_count": 36,
   "metadata": {},
   "outputs": [],
   "source": [
    "events_df.to_csv(\"data/data.csv\", index=False)"
   ]
  }
 ],
 "metadata": {
  "kernelspec": {
   "display_name": "venv",
   "language": "python",
   "name": "python3"
  },
  "language_info": {
   "codemirror_mode": {
    "name": "ipython",
    "version": 3
   },
   "file_extension": ".py",
   "mimetype": "text/x-python",
   "name": "python",
   "nbconvert_exporter": "python",
   "pygments_lexer": "ipython3",
   "version": "3.10.12"
  }
 },
 "nbformat": 4,
 "nbformat_minor": 2
}
